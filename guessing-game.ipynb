{
 "cells": [
  {
   "cell_type": "code",
   "execution_count": 4,
   "metadata": {},
   "outputs": [
    {
     "name": "stdout",
     "output_type": "stream",
     "text": [
      "This letter is not in the word You have 6 guesses left\n",
      "This letter is not in the word You have 5 guesses left\n",
      "This letter is not in the word You have 4 guesses left\n",
      "This letter is not in the word You have 3 guesses left\n",
      "This letter is in the word You have 3 guesses left\n",
      " _  _  _ e _  _ e _  _  _  _ e _  _ \n",
      "This letter is not in the word You have 2 guesses left\n",
      "This letter is in the word You have 2 guesses left\n",
      " _  _  _ e _  _ eg _  _ ge _  _ \n",
      "This letter is not in the word You have 1 guesses left\n",
      "This letter is in the word You have 1 guesses left\n",
      " _  _  _ e _  _ eg _ ige _  _ \n",
      "This letter is not in the word You have 0 guesses left\n"
     ]
    }
   ],
   "source": [
    "import random\n",
    "with open (\"words_alpha.txt\",\"r\") as file:\n",
    "    allwords = file.read()\n",
    "    words = list(map(str,allwords.split()))\n",
    "\n",
    "\n",
    "guesses = 7\n",
    "word = random.choice(words)\n",
    "wordsplit = list(word)\n",
    "letterguesses = []\n",
    "\n",
    "while guesses > 0:\n",
    "    userinput = str(input(\"Enter a word or letter: \"))\n",
    "    if len(userinput)==1:\n",
    "        #letter guess\n",
    "        letterguesses.append(userinput)\n",
    "        if word.find(userinput)==-1:\n",
    "            print(\"This letter is not in the word\", \"You have\", guesses - 1, \"guesses left\")\n",
    "            guesses = guesses - 1\n",
    "        else:\n",
    "            print(\"This letter is in the word\",\"You have\", guesses, \"guesses left\")\n",
    "            display = \"\"\n",
    "            for letter in wordsplit:\n",
    "                if letter in letterguesses:\n",
    "                    display += letter\n",
    "                else:\n",
    "                    display += \" _ \"\n",
    "            print(str(display))\n",
    "            if display == word:\n",
    "                print(\"The word is\", word,\".\" \"You win!\")\n",
    "                break\n",
    "    elif len(userinput)>1:\n",
    "        #word guess\n",
    "        if userinput == word:\n",
    "            print(\"The word is\", word, \".\"\"You win!\")\n",
    "            break\n",
    "        else:\n",
    "            print(\"Guess again!\",\"You have\", guesses -1, \"guesses left\")\n",
    "            guesses = guesses - 1\n",
    "            break\n",
    "    else:\n",
    "        print(\"Userinput is invalid?\")\n",
    "        #catching errors like no user input"
   ]
  }
 ],
 "metadata": {
  "kernelspec": {
   "display_name": "Python 3.10.5 64-bit",
   "language": "python",
   "name": "python3"
  },
  "language_info": {
   "codemirror_mode": {
    "name": "ipython",
    "version": 3
   },
   "file_extension": ".py",
   "mimetype": "text/x-python",
   "name": "python",
   "nbconvert_exporter": "python",
   "pygments_lexer": "ipython3",
   "version": "3.10.5"
  },
  "orig_nbformat": 4,
  "vscode": {
   "interpreter": {
    "hash": "e87ce73c1e1a209b751f816f31f3f79202bf80d848a4c6ca4e4fa9e4495e7a71"
   }
  }
 },
 "nbformat": 4,
 "nbformat_minor": 2
}
