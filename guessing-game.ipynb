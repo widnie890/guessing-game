{
 "cells": [
  {
   "cell_type": "code",
   "execution_count": 6,
   "metadata": {},
   "outputs": [
    {
     "name": "stdout",
     "output_type": "stream",
     "text": [
      "user inputs a word\n",
      "The word is superheroes .You win!\n"
     ]
    }
   ],
   "source": [
    "guesses = 7\n",
    "word = \"superheroes\"\n",
    "wordsplit = list(word)\n",
    "letterguesses = []\n",
    "\n",
    "while guesses>0:\n",
    "    userinput = str(input(\"Enter a word or letter: \"))\n",
    "    if len(userinput)==1:\n",
    "        #letter guess\n",
    "        print(\"user inputs a letter\")\n",
    "        letterguesses.append(userinput)\n",
    "        if word.find(userinput)==-1:\n",
    "            print(\"this letter is not in the word\")\n",
    "            guesses = guesses - 1\n",
    "        else:\n",
    "            print(\"this letter is in the word\")\n",
    "            display = \"\"\n",
    "            for letter in wordsplit:\n",
    "                if letter in letterguesses:\n",
    "                    display += letter\n",
    "                else:\n",
    "                    display += \" _ \"\n",
    "            print(str(display))\n",
    "            if display == word:\n",
    "                print(\"The word is\", word,\".\" \"You win!\")\n",
    "                break\n",
    "    elif len(userinput)>1:\n",
    "        #word guess\n",
    "        print(\"user inputs a word\")\n",
    "        if userinput == word:\n",
    "            print(\"The word is\", word, \".\"\"You win!\")\n",
    "            break\n",
    "        else:\n",
    "            print(\"guess again!\")\n",
    "            guesses = guesses - 1\n",
    "    else:\n",
    "        print(\"userinput is invalid?\")\n",
    "        #catching errors like no user input"
   ]
  }
 ],
 "metadata": {
  "kernelspec": {
   "display_name": "Python 3.10.5 64-bit",
   "language": "python",
   "name": "python3"
  },
  "language_info": {
   "codemirror_mode": {
    "name": "ipython",
    "version": 3
   },
   "file_extension": ".py",
   "mimetype": "text/x-python",
   "name": "python",
   "nbconvert_exporter": "python",
   "pygments_lexer": "ipython3",
   "version": "3.10.5"
  },
  "orig_nbformat": 4,
  "vscode": {
   "interpreter": {
    "hash": "e87ce73c1e1a209b751f816f31f3f79202bf80d848a4c6ca4e4fa9e4495e7a71"
   }
  }
 },
 "nbformat": 4,
 "nbformat_minor": 2
}
